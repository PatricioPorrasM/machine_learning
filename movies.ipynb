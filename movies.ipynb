{
 "cells": [
  {
   "cell_type": "markdown",
   "id": "a1c590e7",
   "metadata": {},
   "source": [
    "# Altair"
   ]
  },
  {
   "cell_type": "code",
   "execution_count": 1,
   "id": "83e30aa6",
   "metadata": {},
   "outputs": [
    {
     "name": "stdout",
     "output_type": "stream",
     "text": [
      "Requirement already satisfied: altair in c:\\personal\\yachay\\machine_learning\\.venv-13\\lib\\site-packages (5.5.0)\n",
      "Requirement already satisfied: vega_datasets in c:\\personal\\yachay\\machine_learning\\.venv-13\\lib\\site-packages (0.9.0)\n",
      "Requirement already satisfied: jinja2 in c:\\personal\\yachay\\machine_learning\\.venv-13\\lib\\site-packages (from altair) (3.1.6)\n",
      "Requirement already satisfied: jsonschema>=3.0 in c:\\personal\\yachay\\machine_learning\\.venv-13\\lib\\site-packages (from altair) (4.25.1)\n",
      "Requirement already satisfied: narwhals>=1.14.2 in c:\\personal\\yachay\\machine_learning\\.venv-13\\lib\\site-packages (from altair) (2.5.0)\n",
      "Requirement already satisfied: packaging in c:\\personal\\yachay\\machine_learning\\.venv-13\\lib\\site-packages (from altair) (25.0)\n",
      "Requirement already satisfied: typing-extensions>=4.10.0 in c:\\personal\\yachay\\machine_learning\\.venv-13\\lib\\site-packages (from altair) (4.15.0)\n",
      "Requirement already satisfied: pandas in c:\\personal\\yachay\\machine_learning\\.venv-13\\lib\\site-packages (from vega_datasets) (2.3.2)\n",
      "Requirement already satisfied: attrs>=22.2.0 in c:\\personal\\yachay\\machine_learning\\.venv-13\\lib\\site-packages (from jsonschema>=3.0->altair) (25.3.0)\n",
      "Requirement already satisfied: jsonschema-specifications>=2023.03.6 in c:\\personal\\yachay\\machine_learning\\.venv-13\\lib\\site-packages (from jsonschema>=3.0->altair) (2025.9.1)\n",
      "Requirement already satisfied: referencing>=0.28.4 in c:\\personal\\yachay\\machine_learning\\.venv-13\\lib\\site-packages (from jsonschema>=3.0->altair) (0.36.2)\n",
      "Requirement already satisfied: rpds-py>=0.7.1 in c:\\personal\\yachay\\machine_learning\\.venv-13\\lib\\site-packages (from jsonschema>=3.0->altair) (0.27.1)\n",
      "Requirement already satisfied: MarkupSafe>=2.0 in c:\\personal\\yachay\\machine_learning\\.venv-13\\lib\\site-packages (from jinja2->altair) (3.0.2)\n",
      "Requirement already satisfied: numpy>=1.26.0 in c:\\personal\\yachay\\machine_learning\\.venv-13\\lib\\site-packages (from pandas->vega_datasets) (2.3.3)\n",
      "Requirement already satisfied: python-dateutil>=2.8.2 in c:\\personal\\yachay\\machine_learning\\.venv-13\\lib\\site-packages (from pandas->vega_datasets) (2.9.0.post0)\n",
      "Requirement already satisfied: pytz>=2020.1 in c:\\personal\\yachay\\machine_learning\\.venv-13\\lib\\site-packages (from pandas->vega_datasets) (2025.2)\n",
      "Requirement already satisfied: tzdata>=2022.7 in c:\\personal\\yachay\\machine_learning\\.venv-13\\lib\\site-packages (from pandas->vega_datasets) (2025.2)\n",
      "Requirement already satisfied: six>=1.5 in c:\\personal\\yachay\\machine_learning\\.venv-13\\lib\\site-packages (from python-dateutil>=2.8.2->pandas->vega_datasets) (1.17.0)\n",
      "Note: you may need to restart the kernel to use updated packages.\n"
     ]
    }
   ],
   "source": [
    "pip install altair vega_datasets"
   ]
  },
  {
   "cell_type": "code",
   "execution_count": 2,
   "id": "219f4c60",
   "metadata": {},
   "outputs": [],
   "source": [
    "import pandas as pd\n",
    "import altair as alt"
   ]
  },
  {
   "cell_type": "code",
   "execution_count": 3,
   "id": "3970f004",
   "metadata": {},
   "outputs": [
    {
     "name": "stdout",
     "output_type": "stream",
     "text": [
      "movies_df is of the type:  <class 'pandas.core.frame.DataFrame'>\n",
      "movies_df:  (3201, 16)\n"
     ]
    }
   ],
   "source": [
    "# Importing the Vega Dataset\n",
    "from vega_datasets import data as vega_data\n",
    "\n",
    "movies_df = pd.read_json(vega_data.movies.url)\n",
    "\n",
    "# Checking the type of data that we get\n",
    "print(\"movies_df is of the type: \", type(movies_df))\n",
    "\n",
    "print(\"movies_df: \", movies_df.shape)\n"
   ]
  },
  {
   "cell_type": "code",
   "execution_count": 4,
   "id": "27109abb",
   "metadata": {},
   "outputs": [
    {
     "data": {
      "text/html": [
       "<div>\n",
       "<style scoped>\n",
       "    .dataframe tbody tr th:only-of-type {\n",
       "        vertical-align: middle;\n",
       "    }\n",
       "\n",
       "    .dataframe tbody tr th {\n",
       "        vertical-align: top;\n",
       "    }\n",
       "\n",
       "    .dataframe thead th {\n",
       "        text-align: right;\n",
       "    }\n",
       "</style>\n",
       "<table border=\"1\" class=\"dataframe\">\n",
       "  <thead>\n",
       "    <tr style=\"text-align: right;\">\n",
       "      <th></th>\n",
       "      <th>Title</th>\n",
       "      <th>US_Gross</th>\n",
       "      <th>Worldwide_Gross</th>\n",
       "      <th>US_DVD_Sales</th>\n",
       "      <th>Production_Budget</th>\n",
       "      <th>Release_Date</th>\n",
       "      <th>MPAA_Rating</th>\n",
       "      <th>Running_Time_min</th>\n",
       "      <th>Distributor</th>\n",
       "      <th>Source</th>\n",
       "      <th>Major_Genre</th>\n",
       "      <th>Creative_Type</th>\n",
       "      <th>Director</th>\n",
       "      <th>Rotten_Tomatoes_Rating</th>\n",
       "      <th>IMDB_Rating</th>\n",
       "      <th>IMDB_Votes</th>\n",
       "    </tr>\n",
       "  </thead>\n",
       "  <tbody>\n",
       "    <tr>\n",
       "      <th>0</th>\n",
       "      <td>The Land Girls</td>\n",
       "      <td>146083.0</td>\n",
       "      <td>146083.0</td>\n",
       "      <td>NaN</td>\n",
       "      <td>8000000.0</td>\n",
       "      <td>Jun 12 1998</td>\n",
       "      <td>R</td>\n",
       "      <td>NaN</td>\n",
       "      <td>Gramercy</td>\n",
       "      <td>None</td>\n",
       "      <td>None</td>\n",
       "      <td>None</td>\n",
       "      <td>None</td>\n",
       "      <td>NaN</td>\n",
       "      <td>6.1</td>\n",
       "      <td>1071.0</td>\n",
       "    </tr>\n",
       "    <tr>\n",
       "      <th>1</th>\n",
       "      <td>First Love, Last Rites</td>\n",
       "      <td>10876.0</td>\n",
       "      <td>10876.0</td>\n",
       "      <td>NaN</td>\n",
       "      <td>300000.0</td>\n",
       "      <td>Aug 07 1998</td>\n",
       "      <td>R</td>\n",
       "      <td>NaN</td>\n",
       "      <td>Strand</td>\n",
       "      <td>None</td>\n",
       "      <td>Drama</td>\n",
       "      <td>None</td>\n",
       "      <td>None</td>\n",
       "      <td>NaN</td>\n",
       "      <td>6.9</td>\n",
       "      <td>207.0</td>\n",
       "    </tr>\n",
       "    <tr>\n",
       "      <th>2</th>\n",
       "      <td>I Married a Strange Person</td>\n",
       "      <td>203134.0</td>\n",
       "      <td>203134.0</td>\n",
       "      <td>NaN</td>\n",
       "      <td>250000.0</td>\n",
       "      <td>Aug 28 1998</td>\n",
       "      <td>None</td>\n",
       "      <td>NaN</td>\n",
       "      <td>Lionsgate</td>\n",
       "      <td>None</td>\n",
       "      <td>Comedy</td>\n",
       "      <td>None</td>\n",
       "      <td>None</td>\n",
       "      <td>NaN</td>\n",
       "      <td>6.8</td>\n",
       "      <td>865.0</td>\n",
       "    </tr>\n",
       "    <tr>\n",
       "      <th>3</th>\n",
       "      <td>Let's Talk About Sex</td>\n",
       "      <td>373615.0</td>\n",
       "      <td>373615.0</td>\n",
       "      <td>NaN</td>\n",
       "      <td>300000.0</td>\n",
       "      <td>Sep 11 1998</td>\n",
       "      <td>None</td>\n",
       "      <td>NaN</td>\n",
       "      <td>Fine Line</td>\n",
       "      <td>None</td>\n",
       "      <td>Comedy</td>\n",
       "      <td>None</td>\n",
       "      <td>None</td>\n",
       "      <td>13.0</td>\n",
       "      <td>NaN</td>\n",
       "      <td>NaN</td>\n",
       "    </tr>\n",
       "    <tr>\n",
       "      <th>4</th>\n",
       "      <td>Slam</td>\n",
       "      <td>1009819.0</td>\n",
       "      <td>1087521.0</td>\n",
       "      <td>NaN</td>\n",
       "      <td>1000000.0</td>\n",
       "      <td>Oct 09 1998</td>\n",
       "      <td>R</td>\n",
       "      <td>NaN</td>\n",
       "      <td>Trimark</td>\n",
       "      <td>Original Screenplay</td>\n",
       "      <td>Drama</td>\n",
       "      <td>Contemporary Fiction</td>\n",
       "      <td>None</td>\n",
       "      <td>62.0</td>\n",
       "      <td>3.4</td>\n",
       "      <td>165.0</td>\n",
       "    </tr>\n",
       "  </tbody>\n",
       "</table>\n",
       "</div>"
      ],
      "text/plain": [
       "                        Title   US_Gross  Worldwide_Gross  US_DVD_Sales  \\\n",
       "0              The Land Girls   146083.0         146083.0           NaN   \n",
       "1      First Love, Last Rites    10876.0          10876.0           NaN   \n",
       "2  I Married a Strange Person   203134.0         203134.0           NaN   \n",
       "3        Let's Talk About Sex   373615.0         373615.0           NaN   \n",
       "4                        Slam  1009819.0        1087521.0           NaN   \n",
       "\n",
       "   Production_Budget Release_Date MPAA_Rating  Running_Time_min Distributor  \\\n",
       "0          8000000.0  Jun 12 1998           R               NaN    Gramercy   \n",
       "1           300000.0  Aug 07 1998           R               NaN      Strand   \n",
       "2           250000.0  Aug 28 1998        None               NaN   Lionsgate   \n",
       "3           300000.0  Sep 11 1998        None               NaN   Fine Line   \n",
       "4          1000000.0  Oct 09 1998           R               NaN     Trimark   \n",
       "\n",
       "                Source Major_Genre         Creative_Type Director  \\\n",
       "0                 None        None                  None     None   \n",
       "1                 None       Drama                  None     None   \n",
       "2                 None      Comedy                  None     None   \n",
       "3                 None      Comedy                  None     None   \n",
       "4  Original Screenplay       Drama  Contemporary Fiction     None   \n",
       "\n",
       "   Rotten_Tomatoes_Rating  IMDB_Rating  IMDB_Votes  \n",
       "0                     NaN          6.1      1071.0  \n",
       "1                     NaN          6.9       207.0  \n",
       "2                     NaN          6.8       865.0  \n",
       "3                    13.0          NaN         NaN  \n",
       "4                    62.0          3.4       165.0  "
      ]
     },
     "execution_count": 4,
     "metadata": {},
     "output_type": "execute_result"
    }
   ],
   "source": [
    "movies_df.head()"
   ]
  },
  {
   "cell_type": "code",
   "execution_count": 5,
   "id": "cb0d2bf8",
   "metadata": {},
   "outputs": [
    {
     "data": {
      "text/plain": [
       "Index(['Title', 'US_Gross', 'Worldwide_Gross', 'US_DVD_Sales',\n",
       "       'Production_Budget', 'Release_Date', 'MPAA_Rating', 'Running_Time_min',\n",
       "       'Distributor', 'Source', 'Major_Genre', 'Creative_Type', 'Director',\n",
       "       'Rotten_Tomatoes_Rating', 'IMDB_Rating', 'IMDB_Votes'],\n",
       "      dtype='object')"
      ]
     },
     "execution_count": 5,
     "metadata": {},
     "output_type": "execute_result"
    }
   ],
   "source": [
    "movies_df.columns"
   ]
  },
  {
   "cell_type": "code",
   "execution_count": 6,
   "id": "947b00ee",
   "metadata": {},
   "outputs": [],
   "source": [
    "def extract_year(value):\n",
    "    return pd.to_datetime(value, format='%b %d %Y').year\n",
    "\n",
    "movies_df[\"Year\"] = movies_df[\"Release_Date\"].apply(extract_year)\n"
   ]
  },
  {
   "cell_type": "code",
   "execution_count": 7,
   "id": "757ff8eb",
   "metadata": {},
   "outputs": [
    {
     "data": {
      "text/plain": [
       "Index(['Title', 'US_Gross', 'Worldwide_Gross', 'US_DVD_Sales',\n",
       "       'Production_Budget', 'Release_Date', 'MPAA_Rating', 'Running_Time_min',\n",
       "       'Distributor', 'Source', 'Major_Genre', 'Creative_Type', 'Director',\n",
       "       'Rotten_Tomatoes_Rating', 'IMDB_Rating', 'IMDB_Votes', 'Year'],\n",
       "      dtype='object')"
      ]
     },
     "execution_count": 7,
     "metadata": {},
     "output_type": "execute_result"
    }
   ],
   "source": [
    "movies_df.columns"
   ]
  },
  {
   "cell_type": "code",
   "execution_count": 9,
   "id": "0c6b6c99",
   "metadata": {},
   "outputs": [
    {
     "ename": "ValueError",
     "evalue": "\nTo use the 'notebook' renderer, you must install the vega package\nand the associated Jupyter extension.\nSee https://altair-viz.github.io/getting_started/installation.html\nfor more information.\n",
     "output_type": "error",
     "traceback": [
      "\u001b[31m---------------------------------------------------------------------------\u001b[39m",
      "\u001b[31mValueError\u001b[39m                                Traceback (most recent call last)",
      "\u001b[36mFile \u001b[39m\u001b[32mc:\\Personal\\Yachay\\Machine_Learning\\.venv-13\\Lib\\site-packages\\altair\\utils\\plugin_registry.py:207\u001b[39m, in \u001b[36mPluginRegistry._enable\u001b[39m\u001b[34m(self, name, **options)\u001b[39m\n\u001b[32m    206\u001b[39m \u001b[38;5;28;01mtry\u001b[39;00m:\n\u001b[32m--> \u001b[39m\u001b[32m207\u001b[39m     (ep,) = (\n\u001b[32m    208\u001b[39m         ep\n\u001b[32m    209\u001b[39m         \u001b[38;5;28;01mfor\u001b[39;00m ep \u001b[38;5;129;01min\u001b[39;00m importlib_metadata_get(\u001b[38;5;28mself\u001b[39m.entry_point_group)\n\u001b[32m    210\u001b[39m         \u001b[38;5;28;01mif\u001b[39;00m ep.name == name\n\u001b[32m    211\u001b[39m     )\n\u001b[32m    212\u001b[39m \u001b[38;5;28;01mexcept\u001b[39;00m \u001b[38;5;167;01mValueError\u001b[39;00m \u001b[38;5;28;01mas\u001b[39;00m err:\n",
      "\u001b[31mValueError\u001b[39m: not enough values to unpack (expected 1, got 0)",
      "\nThe above exception was the direct cause of the following exception:\n",
      "\u001b[31mValueError\u001b[39m                                Traceback (most recent call last)",
      "\u001b[36mCell\u001b[39m\u001b[36m \u001b[39m\u001b[32mIn[9]\u001b[39m\u001b[32m, line 2\u001b[39m\n\u001b[32m      1\u001b[39m \u001b[38;5;66;03m# habilitar la presentación de las imágenes en el mismo notebok\u001b[39;00m\n\u001b[32m----> \u001b[39m\u001b[32m2\u001b[39m \u001b[43malt\u001b[49m\u001b[43m.\u001b[49m\u001b[43mrenderers\u001b[49m\u001b[43m.\u001b[49m\u001b[43menable\u001b[49m\u001b[43m(\u001b[49m\u001b[33;43m'\u001b[39;49m\u001b[33;43mnotebook\u001b[39;49m\u001b[33;43m'\u001b[39;49m\u001b[43m)\u001b[49m\n\u001b[32m      3\u001b[39m \u001b[38;5;66;03m#RendererRegistry.enable('notebook')\u001b[39;00m\n",
      "\u001b[36mFile \u001b[39m\u001b[32mc:\\Personal\\Yachay\\Machine_Learning\\.venv-13\\Lib\\site-packages\\altair\\utils\\plugin_registry.py:249\u001b[39m, in \u001b[36mPluginRegistry.enable\u001b[39m\u001b[34m(self, name, **options)\u001b[39m\n\u001b[32m    247\u001b[39m \u001b[38;5;28;01mif\u001b[39;00m name \u001b[38;5;129;01mis\u001b[39;00m \u001b[38;5;28;01mNone\u001b[39;00m:\n\u001b[32m    248\u001b[39m     name = \u001b[38;5;28mself\u001b[39m.active\n\u001b[32m--> \u001b[39m\u001b[32m249\u001b[39m \u001b[38;5;28;01mreturn\u001b[39;00m \u001b[43mPluginEnabler\u001b[49m\u001b[43m(\u001b[49m\u001b[38;5;28;43mself\u001b[39;49m\u001b[43m,\u001b[49m\u001b[43m \u001b[49m\u001b[43mname\u001b[49m\u001b[43m,\u001b[49m\u001b[43m \u001b[49m\u001b[43m*\u001b[49m\u001b[43m*\u001b[49m\u001b[43moptions\u001b[49m\u001b[43m)\u001b[49m\n",
      "\u001b[36mFile \u001b[39m\u001b[32mc:\\Personal\\Yachay\\Machine_Learning\\.venv-13\\Lib\\site-packages\\altair\\utils\\plugin_registry.py:70\u001b[39m, in \u001b[36mPluginEnabler.__init__\u001b[39m\u001b[34m(self, registry, name, **options)\u001b[39m\n\u001b[32m     68\u001b[39m \u001b[38;5;28mself\u001b[39m.options: \u001b[38;5;28mdict\u001b[39m[\u001b[38;5;28mstr\u001b[39m, Any] = options\n\u001b[32m     69\u001b[39m \u001b[38;5;28mself\u001b[39m.original_state: \u001b[38;5;28mdict\u001b[39m[\u001b[38;5;28mstr\u001b[39m, Any] = registry._get_state()\n\u001b[32m---> \u001b[39m\u001b[32m70\u001b[39m \u001b[38;5;28;43mself\u001b[39;49m\u001b[43m.\u001b[49m\u001b[43mregistry\u001b[49m\u001b[43m.\u001b[49m\u001b[43m_enable\u001b[49m\u001b[43m(\u001b[49m\u001b[43mname\u001b[49m\u001b[43m,\u001b[49m\u001b[43m \u001b[49m\u001b[43m*\u001b[49m\u001b[43m*\u001b[49m\u001b[43moptions\u001b[49m\u001b[43m)\u001b[49m\n",
      "\u001b[36mFile \u001b[39m\u001b[32mc:\\Personal\\Yachay\\Machine_Learning\\.venv-13\\Lib\\site-packages\\altair\\utils\\plugin_registry.py:214\u001b[39m, in \u001b[36mPluginRegistry._enable\u001b[39m\u001b[34m(self, name, **options)\u001b[39m\n\u001b[32m    212\u001b[39m \u001b[38;5;28;01mexcept\u001b[39;00m \u001b[38;5;167;01mValueError\u001b[39;00m \u001b[38;5;28;01mas\u001b[39;00m err:\n\u001b[32m    213\u001b[39m     \u001b[38;5;28;01mif\u001b[39;00m name \u001b[38;5;129;01min\u001b[39;00m \u001b[38;5;28mself\u001b[39m.entrypoint_err_messages:\n\u001b[32m--> \u001b[39m\u001b[32m214\u001b[39m         \u001b[38;5;28;01mraise\u001b[39;00m \u001b[38;5;167;01mValueError\u001b[39;00m(\u001b[38;5;28mself\u001b[39m.entrypoint_err_messages[name]) \u001b[38;5;28;01mfrom\u001b[39;00m\u001b[38;5;250m \u001b[39m\u001b[34;01merr\u001b[39;00m\n\u001b[32m    215\u001b[39m     \u001b[38;5;28;01melse\u001b[39;00m:\n\u001b[32m    216\u001b[39m         \u001b[38;5;28;01mraise\u001b[39;00m NoSuchEntryPoint(\u001b[38;5;28mself\u001b[39m.entry_point_group, name) \u001b[38;5;28;01mfrom\u001b[39;00m\u001b[38;5;250m \u001b[39m\u001b[34;01merr\u001b[39;00m\n",
      "\u001b[31mValueError\u001b[39m: \nTo use the 'notebook' renderer, you must install the vega package\nand the associated Jupyter extension.\nSee https://altair-viz.github.io/getting_started/installation.html\nfor more information.\n"
     ]
    }
   ],
   "source": [
    "# habilitar la presentación de las imágenes en el mismo notebok\n",
    "alt.renderers.enable('notebook')\n",
    "#RendererRegistry.enable('notebook')"
   ]
  }
 ],
 "metadata": {
  "kernelspec": {
   "display_name": ".venv-13",
   "language": "python",
   "name": "python3"
  },
  "language_info": {
   "codemirror_mode": {
    "name": "ipython",
    "version": 3
   },
   "file_extension": ".py",
   "mimetype": "text/x-python",
   "name": "python",
   "nbconvert_exporter": "python",
   "pygments_lexer": "ipython3",
   "version": "3.13.7"
  }
 },
 "nbformat": 4,
 "nbformat_minor": 5
}
